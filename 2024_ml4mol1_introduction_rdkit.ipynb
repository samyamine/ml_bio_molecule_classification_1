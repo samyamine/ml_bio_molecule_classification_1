{
 "cells": [
  {
   "cell_type": "markdown",
   "metadata": {
    "cell_id": "16c54816-8eaa-4419-a3c6-0b518d48920d",
    "deepnote_cell_height": 133.60000610351562,
    "deepnote_cell_type": "markdown",
    "id": "I5zRwy5bwUwz"
   },
   "source": [
    "# Machine learning to predict molecule properties : solubility\n",
    "\n"
   ]
  },
  {
   "cell_type": "markdown",
   "metadata": {
    "cell_id": "00001-49762d77-783f-4373-acbd-16a323a21fb1",
    "deepnote_cell_height": 206,
    "deepnote_cell_type": "markdown",
    "id": "eVwVRfWjwUw3"
   },
   "source": [
    "Laurent Cetinsoy\n",
    "\n",
    "The solubility of molecules is an important property in many applications like for drug selection or for compound selection for battery designes (no link to health).\n",
    "\n",
    "Being able to predict the solubility of a molecule from its formula instead of having to make measuring experiment in an important aspect to enhanced fatester molecule discovery.\n",
    "\n",
    "In this notebook we will do basic solubility prediction with machine learning models and rdkit\n"
   ]
  },
  {
   "cell_type": "markdown",
   "metadata": {
    "cell_id": "00002-a8756790-b108-40d2-a92f-8b05e49e6c30",
    "deepnote_cell_height": 88.39999389648438,
    "deepnote_cell_type": "markdown",
    "id": "QAEEPr0RwUw4"
   },
   "source": [
    "Install the python rdkit package with pip or conda\n",
    "\n",
    "cf https://www.rdkit.org/docs/index.html\n",
    "\n",
    "References :\n",
    "\n",
    "- https://www.rdkit.org/docs/GettingStartedInPython.html\n",
    "- https://www.rdkit.org/docs/Cookbook.html\n",
    "\n"
   ]
  },
  {
   "cell_type": "markdown",
   "metadata": {
    "cell_id": "00004-6254cb0b-9327-466e-ba64-cb12e70f4314",
    "deepnote_cell_height": 81.60000610351562,
    "deepnote_cell_type": "markdown",
    "id": "VIreJisSwUw5"
   },
   "source": [
    "# Atom and Molecule representations with Rdkit"
   ]
  },
  {
   "cell_type": "markdown",
   "metadata": {
    "cell_id": "00005-f0885d44-707b-458e-84a9-5807d29a3394",
    "deepnote_cell_height": 88.39999389648438,
    "deepnote_cell_type": "markdown",
    "id": "sRw7zxXlwUw5"
   },
   "source": [
    "Rdkit is a package allowing to work with molecule data and their representation. It is very useful to gather information about atom and molecules. Especially about their physical and chemical properties. In this notebook we will learn about them\n",
    "\n",
    "For basic manipulations, the main submodule is **Chem**\n",
    "\n"
   ]
  },
  {
   "cell_type": "markdown",
   "metadata": {
    "cell_id": "00006-b6601403-90a3-4561-bf59-2fed80399f86",
    "deepnote_cell_height": 100,
    "deepnote_cell_type": "markdown",
    "id": "TYs-WClCqSsy"
   },
   "source": [
    "### Smile representation\n",
    "\n",
    "Smile lets represent molecules with text strings.\n",
    "\n",
    "\n",
    "Like many representations in chemistry we do not represent hydrogene atoms, indeed we can deduce it from the rest of the data.\n",
    "\n",
    "\n",
    "The following code define the Smile Representation of a very simple molecule. We will try to find out more"
   ]
  },
  {
   "cell_type": "code",
   "execution_count": 1,
   "metadata": {
    "id": "xYwrD1UAwUw7"
   },
   "outputs": [],
   "source": [
    "smile_molecule = \"C\""
   ]
  },
  {
   "cell_type": "markdown",
   "metadata": {
    "id": "mWMD_Rt9wUw8"
   },
   "source": [
    "From the rdkit.Chem submodule, import MolFromSmiles\n",
    "\n",
    "Using MolFromSmiles, load smile_molecule into a rdkit molecule. Store it in a variable named first_mol"
   ]
  },
  {
   "cell_type": "code",
   "execution_count": 2,
   "metadata": {
    "id": "quz8JZZmwUw9"
   },
   "outputs": [],
   "source": [
    "from rdkit import Chem\n",
    "from rdkit.Chem import MolFromSmiles\n",
    "from rdkit.Chem import Draw\n",
    "from rdkit.Chem import Descriptors\n"
   ]
  },
  {
   "cell_type": "code",
   "execution_count": 3,
   "metadata": {},
   "outputs": [],
   "source": [
    "first_mol = MolFromSmiles(smile_molecule)"
   ]
  },
  {
   "cell_type": "markdown",
   "metadata": {
    "id": "Q69JLySAwUw-"
   },
   "source": [
    "display the type of first_mol"
   ]
  },
  {
   "cell_type": "code",
   "execution_count": 4,
   "metadata": {
    "id": "aio0fTUAwUw-"
   },
   "outputs": [
    {
     "data": {
      "text/plain": [
       "rdkit.Chem.rdchem.Mol"
      ]
     },
     "execution_count": 4,
     "metadata": {},
     "output_type": "execute_result"
    }
   ],
   "source": [
    "type(first_mol)"
   ]
  },
  {
   "cell_type": "markdown",
   "metadata": {
    "id": "SsFWnN87wUw-"
   },
   "source": [
    "With the dir function, list the public methods of the object instance first_mol"
   ]
  },
  {
   "cell_type": "code",
   "execution_count": 5,
   "metadata": {
    "id": "mz8Qf45TwUw_"
   },
   "outputs": [
    {
     "data": {
      "text/plain": [
       "['AddConformer',\n",
       " 'ClearComputedProps',\n",
       " 'ClearProp',\n",
       " 'Debug',\n",
       " 'GetAromaticAtoms',\n",
       " 'GetAtomWithIdx',\n",
       " 'GetAtoms',\n",
       " 'GetAtomsMatchingQuery',\n",
       " 'GetBondBetweenAtoms',\n",
       " 'GetBondWithIdx',\n",
       " 'GetBonds',\n",
       " 'GetBoolProp',\n",
       " 'GetConformer',\n",
       " 'GetConformers',\n",
       " 'GetDoubleProp',\n",
       " 'GetIntProp',\n",
       " 'GetNumAtoms',\n",
       " 'GetNumBonds',\n",
       " 'GetNumConformers',\n",
       " 'GetNumHeavyAtoms',\n",
       " 'GetProp',\n",
       " 'GetPropNames',\n",
       " 'GetPropsAsDict',\n",
       " 'GetRingInfo',\n",
       " 'GetStereoGroups',\n",
       " 'GetSubstructMatch',\n",
       " 'GetSubstructMatches',\n",
       " 'GetUnsignedProp',\n",
       " 'HasProp',\n",
       " 'HasQuery',\n",
       " 'HasSubstructMatch',\n",
       " 'NeedsUpdatePropertyCache',\n",
       " 'RemoveAllConformers',\n",
       " 'RemoveConformer',\n",
       " 'SetBoolProp',\n",
       " 'SetDoubleProp',\n",
       " 'SetIntProp',\n",
       " 'SetProp',\n",
       " 'SetUnsignedProp',\n",
       " 'ToBinary',\n",
       " 'UpdatePropertyCache']"
      ]
     },
     "execution_count": 5,
     "metadata": {},
     "output_type": "execute_result"
    }
   ],
   "source": [
    "public_methods = [method for method in dir(first_mol) if not method.startswith(\"_\")]\n",
    "public_methods"
   ]
  },
  {
   "cell_type": "markdown",
   "metadata": {
    "id": "mKzPYxSrwUw_"
   },
   "source": [
    "Among all the methods, you should have found a method allowing you to get the number of atoms.\n",
    "Call it and store the result in a variable n_atoms and display it"
   ]
  },
  {
   "cell_type": "code",
   "execution_count": 6,
   "metadata": {
    "id": "i4e8EC88wUxA"
   },
   "outputs": [
    {
     "data": {
      "text/plain": [
       "1"
      ]
     },
     "execution_count": 6,
     "metadata": {},
     "output_type": "execute_result"
    }
   ],
   "source": [
    "n_atoms = first_mol.GetNumAtoms()\n",
    "n_atoms"
   ]
  },
  {
   "cell_type": "markdown",
   "metadata": {
    "id": "Eq0S7eWxySa3"
   },
   "source": [
    "Using Draw from rdkit.Chem module, draw the moldule"
   ]
  },
  {
   "cell_type": "code",
   "execution_count": 7,
   "metadata": {
    "id": "tEifCJ1P0K_S"
   },
   "outputs": [
    {
     "data": {
      "image/jpeg": "[encoded data removed]",
      "image/png": "[encoded data removed]",
      "text/plain": [
       "<PIL.PngImagePlugin.PngImageFile image mode=RGB size=300x300>"
      ]
     },
     "execution_count": 7,
     "metadata": {},
     "output_type": "execute_result"
    }
   ],
   "source": [
    "d = Draw.MolToImage(first_mol)\n",
    "d"
   ]
  },
  {
   "cell_type": "markdown",
   "metadata": {
    "id": "tTIX9YumwUxA"
   },
   "source": [
    "Do you see a contradiction between the MolToImage and GetNumOfAtoms ? Can you explain why below\n"
   ]
  },
  {
   "cell_type": "markdown",
   "metadata": {
    "id": "vLZ0kRf7yfK9"
   },
   "source": [
    "We can notice that the GetNumAtoms function does not count implicit hydrogene atoms, while MolToImage include them in the representation. This is because it is not relevant to include the hydrogene atoms in the total count, since they are here only to assure the balance of atom links. "
   ]
  },
  {
   "cell_type": "markdown",
   "metadata": {
    "id": "jGAKND9ywUxA"
   },
   "source": [
    "We will tell rdkit to clone the molecule but to add the hydrogen atoms now.\n",
    "Create a new molecule from first_mol using the method AddHs.\n",
    "Store it in a variable named mol2"
   ]
  },
  {
   "cell_type": "code",
   "execution_count": 8,
   "metadata": {
    "id": "QuVNxAAP0HcJ"
   },
   "outputs": [
    {
     "data": {
      "image/png": "[encoded data removed]",
      "text/plain": [
       "<rdkit.Chem.rdchem.Mol at 0x1a2ae1fbf40>"
      ]
     },
     "execution_count": 8,
     "metadata": {},
     "output_type": "execute_result"
    }
   ],
   "source": [
    "mol2 = Chem.AddHs(first_mol)\n",
    "mol2"
   ]
  },
  {
   "cell_type": "markdown",
   "metadata": {
    "id": "iIkqXXahwUxB"
   },
   "source": [
    "Display the number of Atoms now"
   ]
  },
  {
   "cell_type": "code",
   "execution_count": 9,
   "metadata": {
    "id": "do7LMiPPwUxB"
   },
   "outputs": [
    {
     "data": {
      "text/plain": [
       "5"
      ]
     },
     "execution_count": 9,
     "metadata": {},
     "output_type": "execute_result"
    }
   ],
   "source": [
    "n_atoms2 = mol2.GetNumAtoms()\n",
    "n_atoms2"
   ]
  },
  {
   "cell_type": "markdown",
   "metadata": {
    "id": "a2ygBaWawUxC"
   },
   "source": [
    "Display the number of Heavy Atoms (check the methods from dir output)"
   ]
  },
  {
   "cell_type": "code",
   "execution_count": 10,
   "metadata": {
    "id": "v0phEP3DwUxC"
   },
   "outputs": [
    {
     "data": {
      "text/plain": [
       "1"
      ]
     },
     "execution_count": 10,
     "metadata": {},
     "output_type": "execute_result"
    }
   ],
   "source": [
    "n_heavy_atoms = mol2.GetNumHeavyAtoms()\n",
    "n_heavy_atoms"
   ]
  },
  {
   "cell_type": "markdown",
   "metadata": {
    "id": "r4EdaB3fwUxC"
   },
   "source": [
    "Is it coherent ?"
   ]
  },
  {
   "cell_type": "markdown",
   "metadata": {
    "id": "8l9FE-MDwUxC"
   },
   "source": [
    "Yes it is since the only relevant (here \"heavy\") atom is the carbon, hence the result 1."
   ]
  },
  {
   "cell_type": "markdown",
   "metadata": {
    "id": "b1QtJcCgwUxC"
   },
   "source": [
    "With the MolToImage function of the Draw package, display the molecule mol2."
   ]
  },
  {
   "cell_type": "code",
   "execution_count": 11,
   "metadata": {
    "id": "6AcuA18TwUxD"
   },
   "outputs": [
    {
     "data": {
      "image/jpeg": "[encoded data removed]",
      "image/png": "[encoded data removed]",
      "text/plain": [
       "<PIL.PngImagePlugin.PngImageFile image mode=RGB size=300x300>"
      ]
     },
     "execution_count": 11,
     "metadata": {},
     "output_type": "execute_result"
    }
   ],
   "source": [
    "d2 = Draw.MolToImage(mol2)\n",
    "d2"
   ]
  },
  {
   "cell_type": "markdown",
   "metadata": {
    "id": "7uGe3cvywUxD"
   },
   "source": [
    "Let's look at a real molecule now.\n",
    "\n",
    "The following string contains the SMILE representation of the paracetamol molecule"
   ]
  },
  {
   "cell_type": "code",
   "execution_count": 12,
   "metadata": {
    "cell_id": "00008-dd610cb0-5abd-406c-a330-2da2d53262a0",
    "deepnote_cell_height": 65.60000610351562,
    "deepnote_cell_type": "code",
    "id": "IwfByzFGwUxD"
   },
   "outputs": [],
   "source": [
    "smile = 'CC(=O)NC1=CC=C(O)C=C1'"
   ]
  },
  {
   "cell_type": "markdown",
   "metadata": {
    "cell_id": "00011-9c66cae2-261b-4ec9-8a7c-e799d7083289",
    "deepnote_cell_height": 52,
    "deepnote_cell_type": "markdown",
    "id": "Nrse6TRswUxD"
   },
   "source": [
    "Using the MolFromSmiles function, create a molecule from the smile representation and print its types"
   ]
  },
  {
   "cell_type": "code",
   "execution_count": 13,
   "metadata": {
    "cell_id": "00012-a5674a89-c239-4173-8f98-778b289a388e",
    "deepnote_cell_height": 80.60000610351562,
    "deepnote_cell_type": "code",
    "deepnote_to_be_reexecuted": false,
    "execution_millis": 86,
    "execution_start": 1649748771633,
    "id": "ccbbFmLOqDJV",
    "source_hash": "38de17fb"
   },
   "outputs": [
    {
     "data": {
      "text/plain": [
       "rdkit.Chem.rdchem.Mol"
      ]
     },
     "execution_count": 13,
     "metadata": {},
     "output_type": "execute_result"
    }
   ],
   "source": [
    "mol = MolFromSmiles(smile)\n",
    "type(mol)"
   ]
  },
  {
   "cell_type": "markdown",
   "metadata": {
    "cell_id": "00013-96d3ed92-ebee-47ef-b52a-d522509ef206",
    "deepnote_cell_height": 52,
    "deepnote_cell_type": "markdown",
    "id": "3ajzmQ05wUxE"
   },
   "source": [
    "With the MolToImage function of the Draw package, display the molecule"
   ]
  },
  {
   "cell_type": "code",
   "execution_count": 14,
   "metadata": {
    "cell_id": "00014-605ea8c4-c77d-42b1-b28e-8dea04bfadbc",
    "deepnote_cell_height": 65.60000610351562,
    "deepnote_cell_type": "code",
    "id": "8snxocdqsKNJ"
   },
   "outputs": [
    {
     "data": {
      "image/jpeg": "[encoded data removed]",
      "image/png": "[encoded data removed]",
      "text/plain": [
       "<PIL.PngImagePlugin.PngImageFile image mode=RGB size=300x300>"
      ]
     },
     "execution_count": 14,
     "metadata": {},
     "output_type": "execute_result"
    }
   ],
   "source": [
    "d3 = Draw.MolToImage(mol)\n",
    "d3"
   ]
  },
  {
   "cell_type": "markdown",
   "metadata": {
    "cell_id": "00015-5cd6b93d-1f02-43ef-9f8e-04a39cc705cc",
    "deepnote_cell_height": 88.39999389648438,
    "deepnote_cell_type": "markdown",
    "id": "OMTaiXrjwUxE"
   },
   "source": [
    "You can get the Number of atoms of the molecules and the list of atoms with the methods GetNumAtoms and GetAtoms.\n",
    "\n",
    "Print the number of atoms of the molecule"
   ]
  },
  {
   "cell_type": "code",
   "execution_count": 15,
   "metadata": {
    "cell_id": "00016-50fde15d-059b-461e-9630-03f8c4e574ad",
    "deepnote_cell_height": 65.60000610351562,
    "deepnote_cell_type": "code",
    "id": "3yiWFSgdsk0j"
   },
   "outputs": [
    {
     "data": {
      "text/plain": [
       "11"
      ]
     },
     "execution_count": 15,
     "metadata": {},
     "output_type": "execute_result"
    }
   ],
   "source": [
    "mol.GetNumAtoms()"
   ]
  },
  {
   "cell_type": "code",
   "execution_count": 16,
   "metadata": {},
   "outputs": [
    {
     "data": {
      "text/plain": [
       "20"
      ]
     },
     "execution_count": 16,
     "metadata": {},
     "output_type": "execute_result"
    }
   ],
   "source": [
    "mol_with_h = Chem.AddHs(mol)\n",
    "mol_with_h.GetNumAtoms()"
   ]
  },
  {
   "cell_type": "markdown",
   "metadata": {
    "cell_id": "00018-00e691ed-0a03-4cfa-8e5c-063263a98de9",
    "deepnote_cell_height": 74.39999389648438,
    "deepnote_cell_type": "markdown",
    "id": "YmYhOEP2wUxF"
   },
   "source": [
    "If you compare to the picture, you may see that the number of atoms is not 11. What is the total number and why rdkit do not give the same answer ?"
   ]
  },
  {
   "cell_type": "markdown",
   "metadata": {
    "cell_id": "00019-25619709-2bf7-4ff3-adf2-820f8c26a43c",
    "deepnote_cell_height": 45.600006103515625,
    "deepnote_cell_type": "markdown",
    "id": "kgqHGhvhwUxF"
   },
   "source": [
    "The total number of atoms is 20 (which includes heavy atoms and \"implicit\" atoms). Rdkit does not give the same answer because it focuses on \"explicit\" atoms, which dictate the rest of the structure of the molecule and define its characteristics. Not counting the implicit atoms simplifies the process."
   ]
  },
  {
   "cell_type": "markdown",
   "metadata": {
    "cell_id": "00020-7277558b-490d-470a-8404-2192d96da77a",
    "deepnote_cell_height": 52,
    "deepnote_cell_type": "markdown",
    "id": "sek4D5_EwUxF"
   },
   "source": [
    "Print the list of each atoms"
   ]
  },
  {
   "cell_type": "code",
   "execution_count": 17,
   "metadata": {
    "cell_id": "00021-e7b9b4e0-1581-43cf-9b54-44fb10982f62",
    "deepnote_cell_height": 65.60000610351562,
    "deepnote_cell_type": "code",
    "id": "4rN88u9dtueQ"
   },
   "outputs": [
    {
     "data": {
      "text/plain": [
       "['C', 'C', 'O', 'N', 'C', 'C', 'C', 'C', 'O', 'C', 'C']"
      ]
     },
     "execution_count": 17,
     "metadata": {},
     "output_type": "execute_result"
    }
   ],
   "source": [
    "atoms = [atom.GetSymbol() for atom in mol.GetAtoms()]\n",
    "atoms"
   ]
  },
  {
   "cell_type": "markdown",
   "metadata": {
    "cell_id": "00023-155b09a9-d08f-4e80-9eb2-c62d528851a6",
    "deepnote_cell_height": 52,
    "deepnote_cell_type": "markdown",
    "id": "GgicgMSEwUxF"
   },
   "source": [
    "Store the number of bonds of the molecule in **n_bond** (look which method can be used for that) and print"
   ]
  },
  {
   "cell_type": "code",
   "execution_count": 18,
   "metadata": {
    "cell_id": "00024-9fd1d703-47c3-4cc4-9aa9-8a0057f07178",
    "deepnote_cell_height": 65.60000610351562,
    "deepnote_cell_type": "code",
    "id": "4BJGnXswtxFV"
   },
   "outputs": [
    {
     "data": {
      "text/plain": [
       "11"
      ]
     },
     "execution_count": 18,
     "metadata": {},
     "output_type": "execute_result"
    }
   ],
   "source": [
    "n_bond = mol.GetNumBonds()\n",
    "n_bond"
   ]
  },
  {
   "cell_type": "markdown",
   "metadata": {
    "cell_id": "00025-8b8879a3-8aae-4161-840d-0772c3665be5",
    "deepnote_cell_height": 52,
    "deepnote_cell_type": "markdown",
    "id": "8SG_3BXgwUxG"
   },
   "source": [
    "For each bond, print if the bond is single or double"
   ]
  },
  {
   "cell_type": "code",
   "execution_count": 19,
   "metadata": {
    "cell_id": "00026-ba0d2166-a420-4bb1-a1a5-8fb9247e0095",
    "deepnote_cell_height": 65.60000610351562,
    "deepnote_cell_type": "code",
    "id": "KvVVVogjwUxG"
   },
   "outputs": [
    {
     "name": "stdout",
     "output_type": "stream",
     "text": [
      "Bond between C and C is SINGLE\n",
      "Bond between C and O is DOUBLE\n",
      "Bond between C and N is SINGLE\n",
      "Bond between N and C is SINGLE\n",
      "Bond between C and C is AROMATIC\n",
      "Bond between C and C is AROMATIC\n",
      "Bond between C and C is AROMATIC\n",
      "Bond between C and O is SINGLE\n",
      "Bond between C and C is AROMATIC\n",
      "Bond between C and C is AROMATIC\n",
      "Bond between C and C is AROMATIC\n"
     ]
    }
   ],
   "source": [
    "for bond in mol.GetBonds():\n",
    "    print(f\"Bond between {bond.GetBeginAtom().GetSymbol()} and {bond.GetEndAtom().GetSymbol()} is {bond.GetBondType()}\")"
   ]
  },
  {
   "cell_type": "markdown",
   "metadata": {
    "cell_id": "00027-b5995ed8-e09c-4b80-bb8d-b2ca3ea687d6",
    "deepnote_cell_height": 195.1999969482422,
    "deepnote_cell_type": "markdown",
    "id": "5ch4vabFuReu"
   },
   "source": [
    "### Reading molecule data from file\n",
    "\n",
    "Apart SMILES, .SDF and .Mol are also the common formats to save molecules. RDKit provides also functionalities to read these files.\n",
    "\n",
    "\n",
    "Morphine is an opioid agonist used for the relief of moderate to severe acute and chronic pain. The chemical information of this drug can be found at\n",
    "https://go.drugbank.com/structures/small_molecule_drugs/DB00295.sdf\n",
    "\n",
    "\n",
    "Download this file and save it in a folder.\n",
    "\n"
   ]
  },
  {
   "cell_type": "markdown",
   "metadata": {
    "cell_id": "00028-05da9607-1920-4a7d-829f-a3f81d13ecec",
    "deepnote_cell_height": 45.600006103515625,
    "deepnote_cell_type": "markdown",
    "id": "gm_r_DJ_wUxG"
   },
   "source": [
    "File saved as DB00295.sdf"
   ]
  },
  {
   "cell_type": "markdown",
   "metadata": {
    "cell_id": "00029-1506f2e3-1057-4c79-9643-9cdb2c1d63dd",
    "deepnote_cell_height": 311.20001220703125,
    "deepnote_cell_type": "markdown",
    "id": "tkc4vU55wUxG"
   },
   "source": [
    "\n",
    "SDF files can contain one or more molecules. To load them, you can use SDMolSupplier. When you use it it will return you an object that looks like a list.\n",
    "\n",
    "Read the file that you've downloaded using \"rdkit.Chem.SDMolSupplier\" and get the first molecule (the only one) and  store it in a variable named **morphine**\n",
    "\n"
   ]
  },
  {
   "cell_type": "code",
   "execution_count": 20,
   "metadata": {
    "cell_id": "00030-3b0c6161-258d-4626-971a-1570bbbf42a8",
    "deepnote_cell_height": 65.60000610351562,
    "deepnote_cell_type": "code",
    "id": "CKgWFML8wUxH",
    "owner_user_id": "6493ea36-0370-4fcc-a539-2fe0671931ca"
   },
   "outputs": [
    {
     "data": {
      "image/png": "[encoded data removed]",
      "text/html": [
       "<table><tr><td colspan=\"2\" style=\"text-align: center;\"><image src=\"data:image/png;base64,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\"></td></tr>\n",
       "<tr><th style=\"text-align: right\">DATABASE_ID</th><td style=\"text-align: left\">DB00295</td></tr>\n",
       "<tr><th style=\"text-align: right\">DATABASE_NAME</th><td style=\"text-align: left\">drugbank</td></tr>\n",
       "<tr><th style=\"text-align: right\">SMILES</th><td style=\"text-align: left\">[H][C@@]12OC3=C(O)C=CC4=C3[C@@]11CCN(C)[C@]([H])(C4)[C@]1([H])C=C[C@@H]2O</td></tr>\n",
       "<tr><th style=\"text-align: right\">INCHI_IDENTIFIER</th><td style=\"text-align: left\">InChI=1S/C17H19NO3/c1-18-7-6-17-10-3-5-13(20)16(17)21-15-12(19)4-2-9(14(15)17)8-11(10)18/h2-5,10-11,13,16,19-20H,6-8H2,1H3/t10-,11+,13-,16-,17-/m0/s1</td></tr>\n",
       "<tr><th style=\"text-align: right\">INCHI_KEY</th><td style=\"text-align: left\">BQJCRHHNABKAKU-KBQPJGBKSA-N</td></tr>\n",
       "<tr><th style=\"text-align: right\">FORMULA</th><td style=\"text-align: left\">C17H19NO3</td></tr>\n",
       "<tr><th style=\"text-align: right\">MOLECULAR_WEIGHT</th><td style=\"text-align: left\">285.3377</td></tr>\n",
       "<tr><th style=\"text-align: right\">EXACT_MASS</th><td style=\"text-align: left\">285.136493479</td></tr>\n",
       "<tr><th style=\"text-align: right\">JCHEM_ACCEPTOR_COUNT</th><td style=\"text-align: left\">4</td></tr>\n",
       "<tr><th style=\"text-align: right\">JCHEM_ATOM_COUNT</th><td style=\"text-align: left\">40</td></tr>\n",
       "<tr><td colspan=\"2\" style=\"text-align: center\">Property list truncated.<br />Increase IPythonConsole.ipython_maxProperties (or set it to -1) to see more properties.</td></tr></table>"
      ],
      "text/plain": [
       "<rdkit.Chem.rdchem.Mol at 0x1a2ae284cf0>"
      ]
     },
     "execution_count": 20,
     "metadata": {},
     "output_type": "execute_result"
    }
   ],
   "source": [
    "content = Chem.SDMolSupplier(\"notebook_1/DB00295.sdf\")\n",
    "morphine = content[0]\n",
    "\n",
    "morphine"
   ]
  },
  {
   "cell_type": "markdown",
   "metadata": {
    "cell_id": "00031-112c817d-740a-4430-9185-28d4dac58306",
    "deepnote_cell_height": 52,
    "deepnote_cell_type": "markdown",
    "id": "Gi_atYXKwUxH"
   },
   "source": [
    "Display its type"
   ]
  },
  {
   "cell_type": "code",
   "execution_count": 21,
   "metadata": {
    "cell_id": "00032-4a15949d-949a-4501-9e8e-be0a6452502e",
    "deepnote_cell_height": 65.60000610351562,
    "deepnote_cell_type": "code",
    "id": "jyF8QU4DwUxH"
   },
   "outputs": [
    {
     "data": {
      "text/plain": [
       "rdkit.Chem.rdchem.Mol"
      ]
     },
     "execution_count": 21,
     "metadata": {},
     "output_type": "execute_result"
    }
   ],
   "source": [
    "type(morphine)"
   ]
  },
  {
   "cell_type": "markdown",
   "metadata": {
    "cell_id": "00033-54c0e7ba-143f-43e7-902d-8d6ccd2c004d",
    "deepnote_cell_height": 52,
    "deepnote_cell_type": "markdown",
    "id": "u8jnQNRZwUxH"
   },
   "source": [
    "Display the picture of the molecule\n"
   ]
  },
  {
   "cell_type": "code",
   "execution_count": 22,
   "metadata": {
    "cell_id": "00034-29655988-df5c-43dd-b6d7-9ed1f1370a53",
    "deepnote_cell_height": 65.60000610351562,
    "deepnote_cell_type": "code",
    "id": "WWbhtTV2wUxH"
   },
   "outputs": [
    {
     "data": {
      "image/jpeg": "[encoded data removed]",
      "image/png": "[encoded data removed]",
      "text/plain": [
       "<PIL.PngImagePlugin.PngImageFile image mode=RGB size=300x300>"
      ]
     },
     "execution_count": 22,
     "metadata": {},
     "output_type": "execute_result"
    }
   ],
   "source": [
    "d4 = Draw.MolToImage(morphine)\n",
    "d4"
   ]
  },
  {
   "cell_type": "markdown",
   "metadata": {
    "cell_id": "00035-350e5687-2331-4394-8eb7-d38704dd6105",
    "deepnote_cell_height": 52,
    "deepnote_cell_type": "markdown",
    "id": "eZ04Xoy7wUxH"
   },
   "source": [
    "Display the number of atoms and the number of bonds"
   ]
  },
  {
   "cell_type": "code",
   "execution_count": 23,
   "metadata": {
    "cell_id": "00036-ec30068d-0462-4e43-ab3c-528747c4c761",
    "deepnote_cell_height": 65.60000610351562,
    "deepnote_cell_type": "code",
    "id": "XFhGGAORwUxH"
   },
   "outputs": [
    {
     "name": "stdout",
     "output_type": "stream",
     "text": [
      "Number of atoms: 21, number of bonds: 25\n"
     ]
    }
   ],
   "source": [
    "n_morphine_atoms = morphine.GetNumAtoms()\n",
    "n_morphine_bonds = morphine.GetNumBonds()\n",
    "\n",
    "print(f\"Number of atoms: {n_morphine_atoms}, number of bonds: {n_morphine_bonds}\")"
   ]
  },
  {
   "cell_type": "markdown",
   "metadata": {
    "cell_id": "00037-00f838fc-8945-4e34-a80a-1c405e4a213b",
    "deepnote_cell_height": 234.60000610351562,
    "deepnote_cell_type": "markdown",
    "id": "GZXsjZGw3ofC"
   },
   "source": [
    "### Descriptors\n",
    "\n",
    "\n",
    "Molecules are also described by a set of physiochemical descriptors like\n",
    "- the log partition coefficient,\n",
    "- the polar surface area ... that describe the molecule's structure.\n",
    "\n",
    "\n",
    "RDKit provides utilities that allow us to compute descriptor of molecules.\n",
    "\n",
    "The rdkit.Chem.Descriptors module and its sub module let us compute molecule descriptors."
   ]
  },
  {
   "cell_type": "markdown",
   "metadata": {
    "cell_id": "00038-6a0e9066-3a92-4f1d-bd54-4cb670006585",
    "deepnote_cell_height": 74.39999389648438,
    "deepnote_cell_type": "markdown",
    "id": "p4IMXCRJwUxI"
   },
   "source": [
    "the rdkit.Chem.Descriptors module has an attribute name \\_descList, display it. It contains a list of tuple. Each tuple has the name of the physical property, and function associated to it to compute the given property"
   ]
  },
  {
   "cell_type": "code",
   "execution_count": 24,
   "metadata": {
    "cell_id": "00039-f2d00766-465d-4fbc-812f-8de5909e082e",
    "deepnote_cell_height": 65.60000610351562,
    "deepnote_cell_type": "code",
    "id": "A2TEGBucwUxI"
   },
   "outputs": [
    {
     "data": {
      "text/plain": [
       "[('MaxAbsEStateIndex',\n",
       "  <function rdkit.Chem.EState.EState.MaxAbsEStateIndex(mol, force=1)>),\n",
       " ('MaxEStateIndex',\n",
       "  <function rdkit.Chem.EState.EState.MaxEStateIndex(mol, force=1)>),\n",
       " ('MinAbsEStateIndex',\n",
       "  <function rdkit.Chem.EState.EState.MinAbsEStateIndex(mol, force=1)>),\n",
       " ('MinEStateIndex',\n",
       "  <function rdkit.Chem.EState.EState.MinEStateIndex(mol, force=1)>),\n",
       " ('qed',\n",
       "  <function rdkit.Chem.QED.qed(mol, w=QEDproperties(MW=0.66, ALOGP=0.46, HBA=0.05, HBD=0.61, PSA=0.06, ROTB=0.65, AROM=0.48, ALERTS=0.95), qedProperties=None)>),\n",
       " ('SPS', <function rdkit.Chem.SpacialScore.SPS(mol, normalize=True)>),\n",
       " ('MolWt', <function rdkit.Chem.Descriptors.<lambda>(*x, **y)>),\n",
       " ('HeavyAtomMolWt', <function rdkit.Chem.Descriptors.HeavyAtomMolWt(x)>),\n",
       " ('ExactMolWt', <function rdkit.Chem.Descriptors.<lambda>(*x, **y)>),\n",
       " ('NumValenceElectrons',\n",
       "  <function rdkit.Chem.Descriptors.NumValenceElectrons(mol)>),\n",
       " ('NumRadicalElectrons',\n",
       "  <function rdkit.Chem.Descriptors.NumRadicalElectrons(mol)>),\n",
       " ('MaxPartialCharge',\n",
       "  <function rdkit.Chem.Descriptors.MaxPartialCharge(mol, force=False)>),\n",
       " ('MinPartialCharge',\n",
       "  <function rdkit.Chem.Descriptors.MinPartialCharge(mol, force=False)>),\n",
       " ('MaxAbsPartialCharge',\n",
       "  <function rdkit.Chem.Descriptors.MaxAbsPartialCharge(mol, force=False)>),\n",
       " ('MinAbsPartialCharge',\n",
       "  <function rdkit.Chem.Descriptors.MinAbsPartialCharge(mol, force=False)>),\n",
       " ('FpDensityMorgan1', <function rdkit.Chem.Descriptors.FpDensityMorgan1(x)>),\n",
       " ('FpDensityMorgan2', <function rdkit.Chem.Descriptors.FpDensityMorgan2(x)>),\n",
       " ('FpDensityMorgan3', <function rdkit.Chem.Descriptors.FpDensityMorgan3(x)>),\n",
       " ('BCUT2D_MWHI',\n",
       "  <function rdkit.Chem.ChemUtils.DescriptorUtilities.BCUT2D_MWHI(mol, index=0)>),\n",
       " ('BCUT2D_MWLOW',\n",
       "  <function rdkit.Chem.ChemUtils.DescriptorUtilities.BCUT2D_MWLOW(mol, index=1)>),\n",
       " ('BCUT2D_CHGHI',\n",
       "  <function rdkit.Chem.ChemUtils.DescriptorUtilities.BCUT2D_CHGHI(mol, index=2)>),\n",
       " ('BCUT2D_CHGLO',\n",
       "  <function rdkit.Chem.ChemUtils.DescriptorUtilities.BCUT2D_CHGLO(mol, index=3)>),\n",
       " ('BCUT2D_LOGPHI',\n",
       "  <function rdkit.Chem.ChemUtils.DescriptorUtilities.BCUT2D_LOGPHI(mol, index=4)>),\n",
       " ('BCUT2D_LOGPLOW',\n",
       "  <function rdkit.Chem.ChemUtils.DescriptorUtilities.BCUT2D_LOGPLOW(mol, index=5)>),\n",
       " ('BCUT2D_MRHI',\n",
       "  <function rdkit.Chem.ChemUtils.DescriptorUtilities.BCUT2D_MRHI(mol, index=6)>),\n",
       " ('BCUT2D_MRLOW',\n",
       "  <function rdkit.Chem.ChemUtils.DescriptorUtilities.BCUT2D_MRLOW(mol, index=7)>),\n",
       " ('AvgIpc',\n",
       "  <function rdkit.Chem.GraphDescriptors.AvgIpc(mol, dMat=None, forceDMat=False)>),\n",
       " ('BalabanJ',\n",
       "  <function rdkit.Chem.GraphDescriptors.BalabanJ(mol, dMat=None, forceDMat=0)>),\n",
       " ('BertzCT',\n",
       "  <function rdkit.Chem.GraphDescriptors.BertzCT(mol, cutoff=100, dMat=None, forceDMat=1)>),\n",
       " ('Chi0', <function rdkit.Chem.GraphDescriptors.Chi0(mol)>),\n",
       " ('Chi0n', <function rdkit.Chem.GraphDescriptors.<lambda>(x)>),\n",
       " ('Chi0v', <function rdkit.Chem.GraphDescriptors.<lambda>(x)>),\n",
       " ('Chi1', <function rdkit.Chem.GraphDescriptors.Chi1(mol)>),\n",
       " ('Chi1n', <function rdkit.Chem.GraphDescriptors.<lambda>(x)>),\n",
       " ('Chi1v', <function rdkit.Chem.GraphDescriptors.<lambda>(x)>),\n",
       " ('Chi2n', <function rdkit.Chem.GraphDescriptors.<lambda>(x)>),\n",
       " ('Chi2v', <function rdkit.Chem.GraphDescriptors.<lambda>(x)>),\n",
       " ('Chi3n', <function rdkit.Chem.GraphDescriptors.<lambda>(x)>),\n",
       " ('Chi3v', <function rdkit.Chem.GraphDescriptors.<lambda>(x)>),\n",
       " ('Chi4n', <function rdkit.Chem.GraphDescriptors.<lambda>(x)>),\n",
       " ('Chi4v', <function rdkit.Chem.GraphDescriptors.<lambda>(x)>),\n",
       " ('HallKierAlpha', <function rdkit.Chem.GraphDescriptors.<lambda>(x)>),\n",
       " ('Ipc',\n",
       "  <function rdkit.Chem.GraphDescriptors.Ipc(mol, avg=False, dMat=None, forceDMat=False)>),\n",
       " ('Kappa1', <function rdkit.Chem.GraphDescriptors.<lambda>(x)>),\n",
       " ('Kappa2', <function rdkit.Chem.GraphDescriptors.<lambda>(x)>),\n",
       " ('Kappa3', <function rdkit.Chem.GraphDescriptors.<lambda>(x)>),\n",
       " ('LabuteASA', <function rdkit.Chem.MolSurf.<lambda>(*x, **y)>),\n",
       " ('PEOE_VSA1',\n",
       "  <function rdkit.Chem.MolSurf._InstallDescriptors.<locals>.<lambda>(x, y=0)>),\n",
       " ('PEOE_VSA10',\n",
       "  <function rdkit.Chem.MolSurf._InstallDescriptors.<locals>.<lambda>(x, y=9)>),\n",
       " ('PEOE_VSA11',\n",
       "  <function rdkit.Chem.MolSurf._InstallDescriptors.<locals>.<lambda>(x, y=10)>),\n",
       " ('PEOE_VSA12',\n",
       "  <function rdkit.Chem.MolSurf._InstallDescriptors.<locals>.<lambda>(x, y=11)>),\n",
       " ('PEOE_VSA13',\n",
       "  <function rdkit.Chem.MolSurf._InstallDescriptors.<locals>.<lambda>(x, y=12)>),\n",
       " ('PEOE_VSA14',\n",
       "  <function rdkit.Chem.MolSurf._InstallDescriptors.<locals>.<lambda>(x, y=13)>),\n",
       " ('PEOE_VSA2',\n",
       "  <function rdkit.Chem.MolSurf._InstallDescriptors.<locals>.<lambda>(x, y=1)>),\n",
       " ('PEOE_VSA3',\n",
       "  <function rdkit.Chem.MolSurf._InstallDescriptors.<locals>.<lambda>(x, y=2)>),\n",
       " ('PEOE_VSA4',\n",
       "  <function rdkit.Chem.MolSurf._InstallDescriptors.<locals>.<lambda>(x, y=3)>),\n",
       " ('PEOE_VSA5',\n",
       "  <function rdkit.Chem.MolSurf._InstallDescriptors.<locals>.<lambda>(x, y=4)>),\n",
       " ('PEOE_VSA6',\n",
       "  <function rdkit.Chem.MolSurf._InstallDescriptors.<locals>.<lambda>(x, y=5)>),\n",
       " ('PEOE_VSA7',\n",
       "  <function rdkit.Chem.MolSurf._InstallDescriptors.<locals>.<lambda>(x, y=6)>),\n",
       " ('PEOE_VSA8',\n",
       "  <function rdkit.Chem.MolSurf._InstallDescriptors.<locals>.<lambda>(x, y=7)>),\n",
       " ('PEOE_VSA9',\n",
       "  <function rdkit.Chem.MolSurf._InstallDescriptors.<locals>.<lambda>(x, y=8)>),\n",
       " ('SMR_VSA1',\n",
       "  <function rdkit.Chem.MolSurf._InstallDescriptors.<locals>.<lambda>(x, y=0)>),\n",
       " ('SMR_VSA10',\n",
       "  <function rdkit.Chem.MolSurf._InstallDescriptors.<locals>.<lambda>(x, y=9)>),\n",
       " ('SMR_VSA2',\n",
       "  <function rdkit.Chem.MolSurf._InstallDescriptors.<locals>.<lambda>(x, y=1)>),\n",
       " ('SMR_VSA3',\n",
       "  <function rdkit.Chem.MolSurf._InstallDescriptors.<locals>.<lambda>(x, y=2)>),\n",
       " ('SMR_VSA4',\n",
       "  <function rdkit.Chem.MolSurf._InstallDescriptors.<locals>.<lambda>(x, y=3)>),\n",
       " ('SMR_VSA5',\n",
       "  <function rdkit.Chem.MolSurf._InstallDescriptors.<locals>.<lambda>(x, y=4)>),\n",
       " ('SMR_VSA6',\n",
       "  <function rdkit.Chem.MolSurf._InstallDescriptors.<locals>.<lambda>(x, y=5)>),\n",
       " ('SMR_VSA7',\n",
       "  <function rdkit.Chem.MolSurf._InstallDescriptors.<locals>.<lambda>(x, y=6)>),\n",
       " ('SMR_VSA8',\n",
       "  <function rdkit.Chem.MolSurf._InstallDescriptors.<locals>.<lambda>(x, y=7)>),\n",
       " ('SMR_VSA9',\n",
       "  <function rdkit.Chem.MolSurf._InstallDescriptors.<locals>.<lambda>(x, y=8)>),\n",
       " ('SlogP_VSA1',\n",
       "  <function rdkit.Chem.MolSurf._InstallDescriptors.<locals>.<lambda>(x, y=0)>),\n",
       " ('SlogP_VSA10',\n",
       "  <function rdkit.Chem.MolSurf._InstallDescriptors.<locals>.<lambda>(x, y=9)>),\n",
       " ('SlogP_VSA11',\n",
       "  <function rdkit.Chem.MolSurf._InstallDescriptors.<locals>.<lambda>(x, y=10)>),\n",
       " ('SlogP_VSA12',\n",
       "  <function rdkit.Chem.MolSurf._InstallDescriptors.<locals>.<lambda>(x, y=11)>),\n",
       " ('SlogP_VSA2',\n",
       "  <function rdkit.Chem.MolSurf._InstallDescriptors.<locals>.<lambda>(x, y=1)>),\n",
       " ('SlogP_VSA3',\n",
       "  <function rdkit.Chem.MolSurf._InstallDescriptors.<locals>.<lambda>(x, y=2)>),\n",
       " ('SlogP_VSA4',\n",
       "  <function rdkit.Chem.MolSurf._InstallDescriptors.<locals>.<lambda>(x, y=3)>),\n",
       " ('SlogP_VSA5',\n",
       "  <function rdkit.Chem.MolSurf._InstallDescriptors.<locals>.<lambda>(x, y=4)>),\n",
       " ('SlogP_VSA6',\n",
       "  <function rdkit.Chem.MolSurf._InstallDescriptors.<locals>.<lambda>(x, y=5)>),\n",
       " ('SlogP_VSA7',\n",
       "  <function rdkit.Chem.MolSurf._InstallDescriptors.<locals>.<lambda>(x, y=6)>),\n",
       " ('SlogP_VSA8',\n",
       "  <function rdkit.Chem.MolSurf._InstallDescriptors.<locals>.<lambda>(x, y=7)>),\n",
       " ('SlogP_VSA9',\n",
       "  <function rdkit.Chem.MolSurf._InstallDescriptors.<locals>.<lambda>(x, y=8)>),\n",
       " ('TPSA', <function rdkit.Chem.MolSurf.<lambda>(*x, **y)>),\n",
       " ('EState_VSA1', <function rdkit.Chem.EState.EState_VSA.EState_VSA1(mol)>),\n",
       " ('EState_VSA10', <function rdkit.Chem.EState.EState_VSA.EState_VSA10(mol)>),\n",
       " ('EState_VSA11', <function rdkit.Chem.EState.EState_VSA.EState_VSA11(mol)>),\n",
       " ('EState_VSA2', <function rdkit.Chem.EState.EState_VSA.EState_VSA2(mol)>),\n",
       " ('EState_VSA3', <function rdkit.Chem.EState.EState_VSA.EState_VSA3(mol)>),\n",
       " ('EState_VSA4', <function rdkit.Chem.EState.EState_VSA.EState_VSA4(mol)>),\n",
       " ('EState_VSA5', <function rdkit.Chem.EState.EState_VSA.EState_VSA5(mol)>),\n",
       " ('EState_VSA6', <function rdkit.Chem.EState.EState_VSA.EState_VSA6(mol)>),\n",
       " ('EState_VSA7', <function rdkit.Chem.EState.EState_VSA.EState_VSA7(mol)>),\n",
       " ('EState_VSA8', <function rdkit.Chem.EState.EState_VSA.EState_VSA8(mol)>),\n",
       " ('EState_VSA9', <function rdkit.Chem.EState.EState_VSA.EState_VSA9(mol)>),\n",
       " ('VSA_EState1',\n",
       "  <function rdkit.Chem.EState.EState_VSA._descriptor_VSA_EState.<locals>.VSA_EState_bin(mol)>),\n",
       " ('VSA_EState10',\n",
       "  <function rdkit.Chem.EState.EState_VSA._descriptor_VSA_EState.<locals>.VSA_EState_bin(mol)>),\n",
       " ('VSA_EState2',\n",
       "  <function rdkit.Chem.EState.EState_VSA._descriptor_VSA_EState.<locals>.VSA_EState_bin(mol)>),\n",
       " ('VSA_EState3',\n",
       "  <function rdkit.Chem.EState.EState_VSA._descriptor_VSA_EState.<locals>.VSA_EState_bin(mol)>),\n",
       " ('VSA_EState4',\n",
       "  <function rdkit.Chem.EState.EState_VSA._descriptor_VSA_EState.<locals>.VSA_EState_bin(mol)>),\n",
       " ('VSA_EState5',\n",
       "  <function rdkit.Chem.EState.EState_VSA._descriptor_VSA_EState.<locals>.VSA_EState_bin(mol)>),\n",
       " ('VSA_EState6',\n",
       "  <function rdkit.Chem.EState.EState_VSA._descriptor_VSA_EState.<locals>.VSA_EState_bin(mol)>),\n",
       " ('VSA_EState7',\n",
       "  <function rdkit.Chem.EState.EState_VSA._descriptor_VSA_EState.<locals>.VSA_EState_bin(mol)>),\n",
       " ('VSA_EState8',\n",
       "  <function rdkit.Chem.EState.EState_VSA._descriptor_VSA_EState.<locals>.VSA_EState_bin(mol)>),\n",
       " ('VSA_EState9',\n",
       "  <function rdkit.Chem.EState.EState_VSA._descriptor_VSA_EState.<locals>.VSA_EState_bin(mol)>),\n",
       " ('FractionCSP3',\n",
       "  <function rdkit.Chem.Lipinski.<lambda>(x, y=<Boost.Python.function object at 0x000001A28614C130>)>),\n",
       " ('HeavyAtomCount', <function rdkit.Chem.Lipinski.HeavyAtomCount(mol)>),\n",
       " ('NHOHCount', <function rdkit.Chem.Lipinski.<lambda>(x)>),\n",
       " ('NOCount', <function rdkit.Chem.Lipinski.<lambda>(x)>),\n",
       " ('NumAliphaticCarbocycles',\n",
       "  <function rdkit.Chem.Lipinski.<lambda>(x, y=<Boost.Python.function object at 0x000001A28614BC30>)>),\n",
       " ('NumAliphaticHeterocycles',\n",
       "  <function rdkit.Chem.Lipinski.<lambda>(x, y=<Boost.Python.function object at 0x000001A28614C040>)>),\n",
       " ('NumAliphaticRings',\n",
       "  <function rdkit.Chem.Lipinski.<lambda>(x, y=<Boost.Python.function object at 0x000001A28614BFF0>)>),\n",
       " ('NumAromaticCarbocycles',\n",
       "  <function rdkit.Chem.Lipinski.<lambda>(x, y=<Boost.Python.function object at 0x000001A28614C3B0>)>),\n",
       " ('NumAromaticHeterocycles',\n",
       "  <function rdkit.Chem.Lipinski.<lambda>(x, y=<Boost.Python.function object at 0x000001A28614B500>)>),\n",
       " ('NumAromaticRings',\n",
       "  <function rdkit.Chem.Lipinski.<lambda>(x, y=<Boost.Python.function object at 0x000001A28614BF50>)>),\n",
       " ('NumHAcceptors', <function rdkit.Chem.Lipinski.<lambda>(x)>),\n",
       " ('NumHDonors', <function rdkit.Chem.Lipinski.<lambda>(x)>),\n",
       " ('NumHeteroatoms', <function rdkit.Chem.Lipinski.<lambda>(x)>),\n",
       " ('NumRotatableBonds', <function rdkit.Chem.Lipinski.<lambda>(x)>),\n",
       " ('NumSaturatedCarbocycles',\n",
       "  <function rdkit.Chem.Lipinski.<lambda>(x, y=<Boost.Python.function object at 0x000001A28614BB90>)>),\n",
       " ('NumSaturatedHeterocycles',\n",
       "  <function rdkit.Chem.Lipinski.<lambda>(x, y=<Boost.Python.function object at 0x000001A28614B730>)>),\n",
       " ('NumSaturatedRings',\n",
       "  <function rdkit.Chem.Lipinski.<lambda>(x, y=<Boost.Python.function object at 0x000001A28614B190>)>),\n",
       " ('RingCount', <function rdkit.Chem.Lipinski.<lambda>(x)>),\n",
       " ('MolLogP', <function rdkit.Chem.Crippen.<lambda>(*x, **y)>),\n",
       " ('MolMR', <function rdkit.Chem.Crippen.<lambda>(*x, **y)>),\n",
       " ('fr_Al_COO',\n",
       "  <function rdkit.Chem.Fragments._LoadPatterns.<locals>.<lambda>(mol, countUnique=True, pattern=<rdkit.Chem.rdchem.Mol object at 0x000001A2AE1F8040>)>),\n",
       " ('fr_Al_OH',\n",
       "  <function rdkit.Chem.Fragments._LoadPatterns.<locals>.<lambda>(mol, countUnique=True, pattern=<rdkit.Chem.rdchem.Mol object at 0x000001A2AE1E3DF0>)>),\n",
       " ('fr_Al_OH_noTert',\n",
       "  <function rdkit.Chem.Fragments._LoadPatterns.<locals>.<lambda>(mol, countUnique=True, pattern=<rdkit.Chem.rdchem.Mol object at 0x000001A2AE1F9E70>)>),\n",
       " ('fr_ArN',\n",
       "  <function rdkit.Chem.Fragments._LoadPatterns.<locals>.<lambda>(mol, countUnique=True, pattern=<rdkit.Chem.rdchem.Mol object at 0x000001A2AE1FA260>)>),\n",
       " ('fr_Ar_COO',\n",
       "  <function rdkit.Chem.Fragments._LoadPatterns.<locals>.<lambda>(mol, countUnique=True, pattern=<rdkit.Chem.rdchem.Mol object at 0x000001A2AE1F80B0>)>),\n",
       " ('fr_Ar_N',\n",
       "  <function rdkit.Chem.Fragments._LoadPatterns.<locals>.<lambda>(mol, countUnique=True, pattern=<rdkit.Chem.rdchem.Mol object at 0x000001A2AE1F8580>)>),\n",
       " ('fr_Ar_NH',\n",
       "  <function rdkit.Chem.Fragments._LoadPatterns.<locals>.<lambda>(mol, countUnique=True, pattern=<rdkit.Chem.rdchem.Mol object at 0x000001A2AE1F85F0>)>),\n",
       " ('fr_Ar_OH',\n",
       "  <function rdkit.Chem.Fragments._LoadPatterns.<locals>.<lambda>(mol, countUnique=True, pattern=<rdkit.Chem.rdchem.Mol object at 0x000001A2AE1E3D80>)>),\n",
       " ('fr_COO',\n",
       "  <function rdkit.Chem.Fragments._LoadPatterns.<locals>.<lambda>(mol, countUnique=True, pattern=<rdkit.Chem.rdchem.Mol object at 0x000001A2AE1F8120>)>),\n",
       " ('fr_COO2',\n",
       "  <function rdkit.Chem.Fragments._LoadPatterns.<locals>.<lambda>(mol, countUnique=True, pattern=<rdkit.Chem.rdchem.Mol object at 0x000001A2AE1F8190>)>),\n",
       " ('fr_C_O',\n",
       "  <function rdkit.Chem.Fragments._LoadPatterns.<locals>.<lambda>(mol, countUnique=True, pattern=<rdkit.Chem.rdchem.Mol object at 0x000001A2AE1E3CA0>)>),\n",
       " ('fr_C_O_noCOO',\n",
       "  <function rdkit.Chem.Fragments._LoadPatterns.<locals>.<lambda>(mol, countUnique=True, pattern=<rdkit.Chem.rdchem.Mol object at 0x000001A2AE1E3D10>)>),\n",
       " ('fr_C_S',\n",
       "  <function rdkit.Chem.Fragments._LoadPatterns.<locals>.<lambda>(mol, countUnique=True, pattern=<rdkit.Chem.rdchem.Mol object at 0x000001A2AE1F90E0>)>),\n",
       " ('fr_HOCCN',\n",
       "  <function rdkit.Chem.Fragments._LoadPatterns.<locals>.<lambda>(mol, countUnique=True, pattern=<rdkit.Chem.rdchem.Mol object at 0x000001A2AE1FA3B0>)>),\n",
       " ('fr_Imine',\n",
       "  <function rdkit.Chem.Fragments._LoadPatterns.<locals>.<lambda>(mol, countUnique=True, pattern=<rdkit.Chem.rdchem.Mol object at 0x000001A2AE1F86D0>)>),\n",
       " ('fr_NH0',\n",
       "  <function rdkit.Chem.Fragments._LoadPatterns.<locals>.<lambda>(mol, countUnique=True, pattern=<rdkit.Chem.rdchem.Mol object at 0x000001A2AE1F8510>)>),\n",
       " ('fr_NH1',\n",
       "  <function rdkit.Chem.Fragments._LoadPatterns.<locals>.<lambda>(mol, countUnique=True, pattern=<rdkit.Chem.rdchem.Mol object at 0x000001A2AE1F84A0>)>),\n",
       " ('fr_NH2',\n",
       "  <function rdkit.Chem.Fragments._LoadPatterns.<locals>.<lambda>(mol, countUnique=True, pattern=<rdkit.Chem.rdchem.Mol object at 0x000001A2AE1F8430>)>),\n",
       " ('fr_N_O',\n",
       "  <function rdkit.Chem.Fragments._LoadPatterns.<locals>.<lambda>(mol, countUnique=True, pattern=<rdkit.Chem.rdchem.Mol object at 0x000001A2AE1F8900>)>),\n",
       " ('fr_Ndealkylation1',\n",
       "  <function rdkit.Chem.Fragments._LoadPatterns.<locals>.<lambda>(mol, countUnique=True, pattern=<rdkit.Chem.rdchem.Mol object at 0x000001A2AE1FA110>)>),\n",
       " ('fr_Ndealkylation2',\n",
       "  <function rdkit.Chem.Fragments._LoadPatterns.<locals>.<lambda>(mol, countUnique=True, pattern=<rdkit.Chem.rdchem.Mol object at 0x000001A2AE1FA180>)>),\n",
       " ('fr_Nhpyrrole',\n",
       "  <function rdkit.Chem.Fragments._LoadPatterns.<locals>.<lambda>(mol, countUnique=True, pattern=<rdkit.Chem.rdchem.Mol object at 0x000001A2AE1F8CF0>)>),\n",
       " ('fr_SH',\n",
       "  <function rdkit.Chem.Fragments._LoadPatterns.<locals>.<lambda>(mol, countUnique=True, pattern=<rdkit.Chem.rdchem.Mol object at 0x000001A2AE1F9070>)>),\n",
       " ('fr_aldehyde',\n",
       "  <function rdkit.Chem.Fragments._LoadPatterns.<locals>.<lambda>(mol, countUnique=True, pattern=<rdkit.Chem.rdchem.Mol object at 0x000001A2AE1F8350>)>),\n",
       " ('fr_alkyl_carbamate',\n",
       "  <function rdkit.Chem.Fragments._LoadPatterns.<locals>.<lambda>(mol, countUnique=True, pattern=<rdkit.Chem.rdchem.Mol object at 0x000001A2AE1FA1F0>)>),\n",
       " ('fr_alkyl_halide',\n",
       "  <function rdkit.Chem.Fragments._LoadPatterns.<locals>.<lambda>(mol, countUnique=True, pattern=<rdkit.Chem.rdchem.Mol object at 0x000001A2AE1F8F90>)>),\n",
       " ('fr_allylic_oxid',\n",
       "  <function rdkit.Chem.Fragments._LoadPatterns.<locals>.<lambda>(mol, countUnique=True, pattern=<rdkit.Chem.rdchem.Mol object at 0x000001A2AE1FA0A0>)>),\n",
       " ('fr_amide',\n",
       "  <function rdkit.Chem.Fragments._LoadPatterns.<locals>.<lambda>(mol, countUnique=True, pattern=<rdkit.Chem.rdchem.Mol object at 0x000001A2AE1F8B30>)>),\n",
       " ('fr_amidine',\n",
       "  <function rdkit.Chem.Fragments._LoadPatterns.<locals>.<lambda>(mol, countUnique=True, pattern=<rdkit.Chem.rdchem.Mol object at 0x000001A2AE1F8C10>)>),\n",
       " ('fr_aniline',\n",
       "  <function rdkit.Chem.Fragments._LoadPatterns.<locals>.<lambda>(mol, countUnique=True, pattern=<rdkit.Chem.rdchem.Mol object at 0x000001A2AE1F8660>)>),\n",
       " ('fr_aryl_methyl',\n",
       "  <function rdkit.Chem.Fragments._LoadPatterns.<locals>.<lambda>(mol, countUnique=True, pattern=<rdkit.Chem.rdchem.Mol object at 0x000001A2AE1F9FC0>)>),\n",
       " ('fr_azide',\n",
       "  <function rdkit.Chem.Fragments._LoadPatterns.<locals>.<lambda>(mol, countUnique=True, pattern=<rdkit.Chem.rdchem.Mol object at 0x000001A2AE1F8AC0>)>),\n",
       " ('fr_azo',\n",
       "  <function rdkit.Chem.Fragments._LoadPatterns.<locals>.<lambda>(mol, countUnique=True, pattern=<rdkit.Chem.rdchem.Mol object at 0x000001A2AE1F8A50>)>),\n",
       " ('fr_barbitur',\n",
       "  <function rdkit.Chem.Fragments._LoadPatterns.<locals>.<lambda>(mol, countUnique=True, pattern=<rdkit.Chem.rdchem.Mol object at 0x000001A2AE1F92A0>)>),\n",
       " ('fr_benzene',\n",
       "  <function rdkit.Chem.Fragments._LoadPatterns.<locals>.<lambda>(mol, countUnique=True, pattern=<rdkit.Chem.rdchem.Mol object at 0x000001A2AE1F9A80>)>),\n",
       " ('fr_benzodiazepine',\n",
       "  <function rdkit.Chem.Fragments._LoadPatterns.<locals>.<lambda>(mol, countUnique=True, pattern=<rdkit.Chem.rdchem.Mol object at 0x000001A2AE1F9F50>)>),\n",
       " ('fr_bicyclic',\n",
       "  <function rdkit.Chem.Fragments._LoadPatterns.<locals>.<lambda>(mol, countUnique=True, pattern=<rdkit.Chem.rdchem.Mol object at 0x000001A2AE1F9A10>)>),\n",
       " ('fr_diazo',\n",
       "  <function rdkit.Chem.Fragments._LoadPatterns.<locals>.<lambda>(mol, countUnique=True, pattern=<rdkit.Chem.rdchem.Mol object at 0x000001A2AE1F89E0>)>),\n",
       " ('fr_dihydropyridine',\n",
       "  <function rdkit.Chem.Fragments._LoadPatterns.<locals>.<lambda>(mol, countUnique=True, pattern=<rdkit.Chem.rdchem.Mol object at 0x000001A2AE1F9C40>)>),\n",
       " ('fr_epoxide',\n",
       "  <function rdkit.Chem.Fragments._LoadPatterns.<locals>.<lambda>(mol, countUnique=True, pattern=<rdkit.Chem.rdchem.Mol object at 0x000001A2AE1F9930>)>),\n",
       " ('fr_ester',\n",
       "  <function rdkit.Chem.Fragments._LoadPatterns.<locals>.<lambda>(mol, countUnique=True, pattern=<rdkit.Chem.rdchem.Mol object at 0x000001A2AE1E3F40>)>),\n",
       " ('fr_ether',\n",
       "  <function rdkit.Chem.Fragments._LoadPatterns.<locals>.<lambda>(mol, countUnique=True, pattern=<rdkit.Chem.rdchem.Mol object at 0x000001A2AE1F8270>)>),\n",
       " ('fr_furan',\n",
       "  <function rdkit.Chem.Fragments._LoadPatterns.<locals>.<lambda>(mol, countUnique=True, pattern=<rdkit.Chem.rdchem.Mol object at 0x000001A2AE1F9460>)>),\n",
       " ('fr_guanido',\n",
       "  <function rdkit.Chem.Fragments._LoadPatterns.<locals>.<lambda>(mol, countUnique=True, pattern=<rdkit.Chem.rdchem.Mol object at 0x000001A2AE1F8C80>)>),\n",
       " ('fr_halogen',\n",
       "  <function rdkit.Chem.Fragments._LoadPatterns.<locals>.<lambda>(mol, countUnique=True, pattern=<rdkit.Chem.rdchem.Mol object at 0x000001A2AE1F8F20>)>),\n",
       " ('fr_hdrzine',\n",
       "  <function rdkit.Chem.Fragments._LoadPatterns.<locals>.<lambda>(mol, countUnique=True, pattern=<rdkit.Chem.rdchem.Mol object at 0x000001A2AE1F87B0>)>),\n",
       " ('fr_hdrzone',\n",
       "  <function rdkit.Chem.Fragments._LoadPatterns.<locals>.<lambda>(mol, countUnique=True, pattern=<rdkit.Chem.rdchem.Mol object at 0x000001A2AE1F8820>)>),\n",
       " ('fr_imidazole',\n",
       "  <function rdkit.Chem.Fragments._LoadPatterns.<locals>.<lambda>(mol, countUnique=True, pattern=<rdkit.Chem.rdchem.Mol object at 0x000001A2AE1F93F0>)>),\n",
       " ('fr_imide',\n",
       "  <function rdkit.Chem.Fragments._LoadPatterns.<locals>.<lambda>(mol, countUnique=True, pattern=<rdkit.Chem.rdchem.Mol object at 0x000001A2AE1F8D60>)>),\n",
       " ('fr_isocyan',\n",
       "  <function rdkit.Chem.Fragments._LoadPatterns.<locals>.<lambda>(mol, countUnique=True, pattern=<rdkit.Chem.rdchem.Mol object at 0x000001A2AE1F8DD0>)>),\n",
       " ('fr_isothiocyan',\n",
       "  <function rdkit.Chem.Fragments._LoadPatterns.<locals>.<lambda>(mol, countUnique=True, pattern=<rdkit.Chem.rdchem.Mol object at 0x000001A2AE1F8E40>)>),\n",
       " ('fr_ketone',\n",
       "  <function rdkit.Chem.Fragments._LoadPatterns.<locals>.<lambda>(mol, countUnique=True, pattern=<rdkit.Chem.rdchem.Mol object at 0x000001A2AE1F8200>)>),\n",
       " ('fr_ketone_Topliss',\n",
       "  <function rdkit.Chem.Fragments._LoadPatterns.<locals>.<lambda>(mol, countUnique=True, pattern=<rdkit.Chem.rdchem.Mol object at 0x000001A2AE1FA2D0>)>),\n",
       " ('fr_lactam',\n",
       "  <function rdkit.Chem.Fragments._LoadPatterns.<locals>.<lambda>(mol, countUnique=True, pattern=<rdkit.Chem.rdchem.Mol object at 0x000001A2AE1F97E0>)>),\n",
       " ('fr_lactone',\n",
       "  <function rdkit.Chem.Fragments._LoadPatterns.<locals>.<lambda>(mol, countUnique=True, pattern=<rdkit.Chem.rdchem.Mol object at 0x000001A2AE1F9850>)>),\n",
       " ('fr_methoxy',\n",
       "  <function rdkit.Chem.Fragments._LoadPatterns.<locals>.<lambda>(mol, countUnique=True, pattern=<rdkit.Chem.rdchem.Mol object at 0x000001A2AE1E3ED0>)>),\n",
       " ('fr_morpholine',\n",
       "  <function rdkit.Chem.Fragments._LoadPatterns.<locals>.<lambda>(mol, countUnique=True, pattern=<rdkit.Chem.rdchem.Mol object at 0x000001A2AE1F9770>)>),\n",
       " ('fr_nitrile',\n",
       "  <function rdkit.Chem.Fragments._LoadPatterns.<locals>.<lambda>(mol, countUnique=True, pattern=<rdkit.Chem.rdchem.Mol object at 0x000001A2AE1F8740>)>),\n",
       " ('fr_nitro',\n",
       "  <function rdkit.Chem.Fragments._LoadPatterns.<locals>.<lambda>(mol, countUnique=True, pattern=<rdkit.Chem.rdchem.Mol object at 0x000001A2AE1F8970>)>),\n",
       " ('fr_nitro_arom',\n",
       "  <function rdkit.Chem.Fragments._LoadPatterns.<locals>.<lambda>(mol, countUnique=True, pattern=<rdkit.Chem.rdchem.Mol object at 0x000001A2AE1F9BD0>)>),\n",
       " ('fr_nitro_arom_nonortho',\n",
       "  <function rdkit.Chem.Fragments._LoadPatterns.<locals>.<lambda>(mol, countUnique=True, pattern=<rdkit.Chem.rdchem.Mol object at 0x000001A2AE1F9CB0>)>),\n",
       " ('fr_nitroso',\n",
       "  <function rdkit.Chem.Fragments._LoadPatterns.<locals>.<lambda>(mol, countUnique=True, pattern=<rdkit.Chem.rdchem.Mol object at 0x000001A2AE1F8890>)>),\n",
       " ('fr_oxazole',\n",
       "  <function rdkit.Chem.Fragments._LoadPatterns.<locals>.<lambda>(mol, countUnique=True, pattern=<rdkit.Chem.rdchem.Mol object at 0x000001A2AE1F95B0>)>),\n",
       " ('fr_oxime',\n",
       "  <function rdkit.Chem.Fragments._LoadPatterns.<locals>.<lambda>(mol, countUnique=True, pattern=<rdkit.Chem.rdchem.Mol object at 0x000001A2AE1E3E60>)>),\n",
       " ('fr_para_hydroxylation',\n",
       "  <function rdkit.Chem.Fragments._LoadPatterns.<locals>.<lambda>(mol, countUnique=True, pattern=<rdkit.Chem.rdchem.Mol object at 0x000001A2AE1F9EE0>)>),\n",
       " ('fr_phenol',\n",
       "  <function rdkit.Chem.Fragments._LoadPatterns.<locals>.<lambda>(mol, countUnique=True, pattern=<rdkit.Chem.rdchem.Mol object at 0x000001A2AE1F82E0>)>),\n",
       " ('fr_phenol_noOrthoHbond',\n",
       "  <function rdkit.Chem.Fragments._LoadPatterns.<locals>.<lambda>(mol, countUnique=True, pattern=<rdkit.Chem.rdchem.Mol object at 0x000001A2AE1F9D90>)>),\n",
       " ('fr_phos_acid',\n",
       "  <function rdkit.Chem.Fragments._LoadPatterns.<locals>.<lambda>(mol, countUnique=True, pattern=<rdkit.Chem.rdchem.Mol object at 0x000001A2AE1F9AF0>)>),\n",
       " ('fr_phos_ester',\n",
       "  <function rdkit.Chem.Fragments._LoadPatterns.<locals>.<lambda>(mol, countUnique=True, pattern=<rdkit.Chem.rdchem.Mol object at 0x000001A2AE1F9B60>)>),\n",
       " ('fr_piperdine',\n",
       "  <function rdkit.Chem.Fragments._LoadPatterns.<locals>.<lambda>(mol, countUnique=True, pattern=<rdkit.Chem.rdchem.Mol object at 0x000001A2AE1F9690>)>),\n",
       " ('fr_piperzine',\n",
       "  <function rdkit.Chem.Fragments._LoadPatterns.<locals>.<lambda>(mol, countUnique=True, pattern=<rdkit.Chem.rdchem.Mol object at 0x000001A2AE1F9700>)>),\n",
       " ('fr_priamide',\n",
       "  <function rdkit.Chem.Fragments._LoadPatterns.<locals>.<lambda>(mol, countUnique=True, pattern=<rdkit.Chem.rdchem.Mol object at 0x000001A2AE1F8BA0>)>),\n",
       " ('fr_prisulfonamd',\n",
       "  <function rdkit.Chem.Fragments._LoadPatterns.<locals>.<lambda>(mol, countUnique=True, pattern=<rdkit.Chem.rdchem.Mol object at 0x000001A2AE1F9230>)>),\n",
       " ('fr_pyridine',\n",
       "  <function rdkit.Chem.Fragments._LoadPatterns.<locals>.<lambda>(mol, countUnique=True, pattern=<rdkit.Chem.rdchem.Mol object at 0x000001A2AE1F9620>)>),\n",
       " ('fr_quatN',\n",
       "  <function rdkit.Chem.Fragments._LoadPatterns.<locals>.<lambda>(mol, countUnique=True, pattern=<rdkit.Chem.rdchem.Mol object at 0x000001A2AE1F83C0>)>),\n",
       " ('fr_sulfide',\n",
       "  <function rdkit.Chem.Fragments._LoadPatterns.<locals>.<lambda>(mol, countUnique=True, pattern=<rdkit.Chem.rdchem.Mol object at 0x000001A2AE1F9000>)>),\n",
       " ('fr_sulfonamd',\n",
       "  <function rdkit.Chem.Fragments._LoadPatterns.<locals>.<lambda>(mol, countUnique=True, pattern=<rdkit.Chem.rdchem.Mol object at 0x000001A2AE1F9150>)>),\n",
       " ('fr_sulfone',\n",
       "  <function rdkit.Chem.Fragments._LoadPatterns.<locals>.<lambda>(mol, countUnique=True, pattern=<rdkit.Chem.rdchem.Mol object at 0x000001A2AE1F91C0>)>),\n",
       " ('fr_term_acetylene',\n",
       "  <function rdkit.Chem.Fragments._LoadPatterns.<locals>.<lambda>(mol, countUnique=True, pattern=<rdkit.Chem.rdchem.Mol object at 0x000001A2AE1F9310>)>),\n",
       " ('fr_tetrazole',\n",
       "  <function rdkit.Chem.Fragments._LoadPatterns.<locals>.<lambda>(mol, countUnique=True, pattern=<rdkit.Chem.rdchem.Mol object at 0x000001A2AE1F98C0>)>),\n",
       " ('fr_thiazole',\n",
       "  <function rdkit.Chem.Fragments._LoadPatterns.<locals>.<lambda>(mol, countUnique=True, pattern=<rdkit.Chem.rdchem.Mol object at 0x000001A2AE1F9540>)>),\n",
       " ('fr_thiocyan',\n",
       "  <function rdkit.Chem.Fragments._LoadPatterns.<locals>.<lambda>(mol, countUnique=True, pattern=<rdkit.Chem.rdchem.Mol object at 0x000001A2AE1F8EB0>)>),\n",
       " ('fr_thiophene',\n",
       "  <function rdkit.Chem.Fragments._LoadPatterns.<locals>.<lambda>(mol, countUnique=True, pattern=<rdkit.Chem.rdchem.Mol object at 0x000001A2AE1F94D0>)>),\n",
       " ('fr_unbrch_alkane',\n",
       "  <function rdkit.Chem.Fragments._LoadPatterns.<locals>.<lambda>(mol, countUnique=True, pattern=<rdkit.Chem.rdchem.Mol object at 0x000001A2AE1F99A0>)>),\n",
       " ('fr_urea',\n",
       "  <function rdkit.Chem.Fragments._LoadPatterns.<locals>.<lambda>(mol, countUnique=True, pattern=<rdkit.Chem.rdchem.Mol object at 0x000001A2AE1F9380>)>)]"
      ]
     },
     "execution_count": 24,
     "metadata": {},
     "output_type": "execute_result"
    }
   ],
   "source": [
    "Descriptors._descList"
   ]
  },
  {
   "cell_type": "markdown",
   "metadata": {
    "cell_id": "00040-d6748b2c-f940-45f6-9911-985577dd18b7",
    "deepnote_cell_height": 74.39999389648438,
    "deepnote_cell_type": "markdown",
    "id": "PmDGS-JGwUxI"
   },
   "source": [
    "Compute all descriptors in the _descList list of the paracetamol molecule using the MoleculeDescriptors.MolecularDescriptorCalculator class"
   ]
  },
  {
   "cell_type": "code",
   "execution_count": 25,
   "metadata": {
    "cell_id": "00041-4b4b6a98-ad3f-4f22-9452-35bc9570b17a",
    "deepnote_cell_height": 65.60000610351562,
    "deepnote_cell_type": "code",
    "id": "dvNfAT_JwUxI"
   },
   "outputs": [],
   "source": [
    "def getAllDescriptors(m):\n",
    "    res = dict()\n",
    "\n",
    "    for attribute, fn in Descriptors._descList:\n",
    "        res[attribute] = fn(m)\n",
    "\n",
    "    return res\n",
    "        "
   ]
  },
  {
   "cell_type": "code",
   "execution_count": 26,
   "metadata": {},
   "outputs": [],
   "source": [
    "descriptors = getAllDescriptors(morphine)"
   ]
  },
  {
   "cell_type": "markdown",
   "metadata": {
    "cell_id": "00042-baa938b8-9cb5-44b3-89d4-4ebaef013670",
    "deepnote_cell_height": 52,
    "deepnote_cell_type": "markdown",
    "id": "vQcACF5K3l1y"
   },
   "source": [
    "Display the names and the fvalues of the descriptors"
   ]
  },
  {
   "cell_type": "code",
   "execution_count": 27,
   "metadata": {
    "cell_id": "00043-32e14f39-ce8b-40d0-a066-0c62d7159053",
    "deepnote_cell_height": 65.60000610351562,
    "deepnote_cell_type": "code",
    "id": "uKfd9F_93urZ"
   },
   "outputs": [
    {
     "name": "stdout",
     "output_type": "stream",
     "text": [
      "MaxAbsEStateIndex: 10.440693027210884\n",
      "MaxEStateIndex: 10.440693027210884\n",
      "MinAbsEStateIndex: 0.1597222222222221\n",
      "MinEStateIndex: -0.5943924792139084\n",
      "qed: 0.7033474919154648\n",
      "SPS: 42.57142857142857\n",
      "MolWt: 285.34299999999996\n",
      "HeavyAtomMolWt: 266.191\n",
      "ExactMolWt: 285.136493468\n",
      "NumValenceElectrons: 110\n",
      "NumRadicalElectrons: 0\n",
      "MaxPartialCharge: 0.1652428909596224\n",
      "MinPartialCharge: -0.5042466595879944\n",
      "MaxAbsPartialCharge: 0.5042466595879944\n",
      "MinAbsPartialCharge: 0.1652428909596224\n",
      "FpDensityMorgan1: 1.3333333333333333\n",
      "FpDensityMorgan2: 2.1904761904761907\n",
      "FpDensityMorgan3: 3.0476190476190474\n",
      "BCUT2D_MWHI: 16.516853102099954\n",
      "BCUT2D_MWLOW: 9.53113651260579\n",
      "BCUT2D_CHGHI: 2.636111461135519\n",
      "BCUT2D_CHGLO: -2.5601210424889\n",
      "BCUT2D_LOGPHI: 2.617132894412904\n",
      "BCUT2D_LOGPLOW: -2.6431440356017544\n",
      "BCUT2D_MRHI: 5.612054247185539\n",
      "BCUT2D_MRLOW: -0.04529371357624026\n",
      "AvgIpc: 2.827160578068894\n",
      "BalabanJ: 1.8445254467475667\n",
      "BertzCT: 652.2473111288068\n",
      "Chi0: 14.353006672199017\n",
      "Chi0n: 11.990011574040388\n",
      "Chi0v: 11.990011574040388\n",
      "Chi1: 10.125864216121357\n",
      "Chi1n: 7.713327954418207\n",
      "Chi1v: 7.713327954418207\n",
      "Chi2n: 6.930110293573662\n",
      "Chi2v: 6.930110293573662\n",
      "Chi3n: 6.1497382486584184\n",
      "Chi3v: 6.1497382486584184\n",
      "Chi4n: 5.23841557070925\n",
      "Chi4v: 5.23841557070925\n",
      "HallKierAlpha: -1.5199999999999996\n",
      "Ipc: 132503.36197293294\n",
      "Kappa1: 12.066927436884919\n",
      "Kappa2: 3.622684688180387\n",
      "Kappa3: 1.2071641349925186\n",
      "LabuteASA: 123.19468513566075\n",
      "PEOE_VSA1: 19.84982747433194\n",
      "PEOE_VSA10: 12.207932775496605\n",
      "PEOE_VSA11: 11.49902366656781\n",
      "PEOE_VSA12: 0.0\n",
      "PEOE_VSA13: 0.0\n",
      "PEOE_VSA14: 0.0\n",
      "PEOE_VSA2: 0.0\n",
      "PEOE_VSA3: 0.0\n",
      "PEOE_VSA4: 0.0\n",
      "PEOE_VSA5: 0.0\n",
      "PEOE_VSA6: 18.218407282129373\n",
      "PEOE_VSA7: 38.06389019460039\n",
      "PEOE_VSA8: 22.93818883640313\n",
      "PEOE_VSA9: 0.0\n",
      "SMR_VSA1: 14.94991774348146\n",
      "SMR_VSA10: 0.0\n",
      "SMR_VSA2: 0.0\n",
      "SMR_VSA3: 4.899909730850478\n",
      "SMR_VSA4: 5.917906046161393\n",
      "SMR_VSA5: 36.50640731989336\n",
      "SMR_VSA6: 13.592428388589765\n",
      "SMR_VSA7: 35.411677333984976\n",
      "SMR_VSA8: 0.0\n",
      "SMR_VSA9: 11.49902366656781\n",
      "SlogP_VSA1: 4.736862953800049\n",
      "SlogP_VSA10: 0.0\n",
      "SlogP_VSA11: 11.49902366656781\n",
      "SlogP_VSA12: 0.0\n",
      "SlogP_VSA2: 46.955166513766216\n",
      "SlogP_VSA3: 11.83581209232279\n",
      "SlogP_VSA4: 5.917906046161393\n",
      "SlogP_VSA5: 17.54772460632\n",
      "SlogP_VSA6: 24.284774350590983\n",
      "SlogP_VSA7: 0.0\n",
      "SlogP_VSA8: 0.0\n",
      "SlogP_VSA9: 0.0\n",
      "TPSA: 52.93\n",
      "EState_VSA1: 6.103966387748303\n",
      "EState_VSA10: 10.213054789681411\n",
      "EState_VSA11: 0.0\n",
      "EState_VSA2: 17.268468690428985\n",
      "EState_VSA3: 17.709258708593257\n",
      "EState_VSA4: 19.386399651764595\n",
      "EState_VSA5: 11.126902983393991\n",
      "EState_VSA6: 6.06636706846161\n",
      "EState_VSA7: 12.142387175295491\n",
      "EState_VSA8: 18.02360182036155\n",
      "EState_VSA9: 4.736862953800049\n",
      "VSA_EState1: 6.087093726379441\n",
      "VSA_EState10: 0.0\n",
      "VSA_EState2: 2.4333413643235073\n",
      "VSA_EState3: 20.64851773116654\n",
      "VSA_EState4: 2.2901388888888894\n",
      "VSA_EState5: 1.1891723356009076\n",
      "VSA_EState6: 4.225751606198035\n",
      "VSA_EState7: 5.177912887377172\n",
      "VSA_EState8: 1.0100425170068028\n",
      "VSA_EState9: 2.188028943058705\n",
      "FractionCSP3: 0.5294117647058824\n",
      "HeavyAtomCount: 21\n",
      "NHOHCount: 2\n",
      "NOCount: 4\n",
      "NumAliphaticCarbocycles: 2\n",
      "NumAliphaticHeterocycles: 2\n",
      "NumAliphaticRings: 4\n",
      "NumAromaticCarbocycles: 1\n",
      "NumAromaticHeterocycles: 0\n",
      "NumAromaticRings: 1\n",
      "NumHAcceptors: 4\n",
      "NumHDonors: 2\n",
      "NumHeteroatoms: 4\n",
      "NumRotatableBonds: 0\n",
      "NumSaturatedCarbocycles: 0\n",
      "NumSaturatedHeterocycles: 1\n",
      "NumSaturatedRings: 1\n",
      "RingCount: 5\n",
      "MolLogP: 1.1980999999999997\n",
      "MolMR: 77.57660000000004\n",
      "fr_Al_COO: 0\n",
      "fr_Al_OH: 1\n",
      "fr_Al_OH_noTert: 1\n",
      "fr_ArN: 0\n",
      "fr_Ar_COO: 0\n",
      "fr_Ar_N: 0\n",
      "fr_Ar_NH: 0\n",
      "fr_Ar_OH: 1\n",
      "fr_COO: 0\n",
      "fr_COO2: 0\n",
      "fr_C_O: 0\n",
      "fr_C_O_noCOO: 0\n",
      "fr_C_S: 0\n",
      "fr_HOCCN: 0\n",
      "fr_Imine: 0\n",
      "fr_NH0: 1\n",
      "fr_NH1: 0\n",
      "fr_NH2: 0\n",
      "fr_N_O: 0\n",
      "fr_Ndealkylation1: 1\n",
      "fr_Ndealkylation2: 1\n",
      "fr_Nhpyrrole: 0\n",
      "fr_SH: 0\n",
      "fr_aldehyde: 0\n",
      "fr_alkyl_carbamate: 0\n",
      "fr_alkyl_halide: 0\n",
      "fr_allylic_oxid: 0\n",
      "fr_amide: 0\n",
      "fr_amidine: 0\n",
      "fr_aniline: 0\n",
      "fr_aryl_methyl: 0\n",
      "fr_azide: 0\n",
      "fr_azo: 0\n",
      "fr_barbitur: 0\n",
      "fr_benzene: 1\n",
      "fr_benzodiazepine: 0\n",
      "fr_bicyclic: 0\n",
      "fr_diazo: 0\n",
      "fr_dihydropyridine: 0\n",
      "fr_epoxide: 0\n",
      "fr_ester: 0\n",
      "fr_ether: 1\n",
      "fr_furan: 0\n",
      "fr_guanido: 0\n",
      "fr_halogen: 0\n",
      "fr_hdrzine: 0\n",
      "fr_hdrzone: 0\n",
      "fr_imidazole: 0\n",
      "fr_imide: 0\n",
      "fr_isocyan: 0\n",
      "fr_isothiocyan: 0\n",
      "fr_ketone: 0\n",
      "fr_ketone_Topliss: 0\n",
      "fr_lactam: 0\n",
      "fr_lactone: 0\n",
      "fr_methoxy: 0\n",
      "fr_morpholine: 0\n",
      "fr_nitrile: 0\n",
      "fr_nitro: 0\n",
      "fr_nitro_arom: 0\n",
      "fr_nitro_arom_nonortho: 0\n",
      "fr_nitroso: 0\n",
      "fr_oxazole: 0\n",
      "fr_oxime: 0\n",
      "fr_para_hydroxylation: 0\n",
      "fr_phenol: 1\n",
      "fr_phenol_noOrthoHbond: 1\n",
      "fr_phos_acid: 0\n",
      "fr_phos_ester: 0\n",
      "fr_piperdine: 1\n",
      "fr_piperzine: 0\n",
      "fr_priamide: 0\n",
      "fr_prisulfonamd: 0\n",
      "fr_pyridine: 0\n",
      "fr_quatN: 0\n",
      "fr_sulfide: 0\n",
      "fr_sulfonamd: 0\n",
      "fr_sulfone: 0\n",
      "fr_term_acetylene: 0\n",
      "fr_tetrazole: 0\n",
      "fr_thiazole: 0\n",
      "fr_thiocyan: 0\n",
      "fr_thiophene: 0\n",
      "fr_unbrch_alkane: 0\n",
      "fr_urea: 0\n"
     ]
    }
   ],
   "source": [
    "for attribute, value in descriptors.items():\n",
    "    print(f\"{attribute}: {value}\")"
   ]
  },
  {
   "cell_type": "markdown",
   "metadata": {
    "cell_id": "00044-44ab437c-a7e6-40f8-bfc6-d2d620d6a9b8",
    "deepnote_cell_height": 181.1999969482422,
    "deepnote_cell_type": "markdown",
    "id": "gljbmF6p3RX8"
   },
   "source": [
    "### Fingerprinting\n",
    "\n",
    "\n",
    "A chemical structure can be characterized by a set of numerical values known as molecular fingerprints. They may be 2D Fragment-based fingerprints presented by bit arrays of 0s and 1s wherein each bit position indicates the presence or absence of structural fragments.\n",
    "\n",
    "\n",
    "The RDKit has a variety of built-in functionality for generating molecular fingerprints and then using them to calculate molecular similarity. In this exercise, we will generate the fingerprints for parcetamol and aspirin that are two popular drugs used for pains.\n",
    "\n",
    "\n"
   ]
  },
  {
   "cell_type": "code",
   "execution_count": 28,
   "metadata": {
    "cell_id": "00045-47b42508-c127-4cc3-a856-3af0b9214962",
    "deepnote_cell_height": 65.60000610351562,
    "deepnote_cell_type": "code",
    "id": "iqNa6jcFwUxJ"
   },
   "outputs": [],
   "source": [
    "import numpy as np\n",
    "from rdkit.Chem import AllChem\n",
    "from rdkit import DataStructs"
   ]
  },
  {
   "cell_type": "markdown",
   "metadata": {
    "cell_id": "00046-96542193-46de-4bf5-bbe3-c2b33cd02541",
    "deepnote_cell_height": 52,
    "deepnote_cell_type": "markdown",
    "id": "HxkjJfp_wUxJ"
   },
   "source": [
    "\n",
    "With the help of rdkit.Chem.AllChem.GetMorganFingerprintAsBitVect, compute its fingerprint as a bit vector."
   ]
  },
  {
   "cell_type": "code",
   "execution_count": 29,
   "metadata": {
    "cell_id": "00047-cf47357b-427d-44e5-8f85-3277a29492a2",
    "deepnote_cell_height": 65.60000610351562,
    "deepnote_cell_type": "code",
    "id": "jxHqsfuTwUxJ"
   },
   "outputs": [
    {
     "name": "stderr",
     "output_type": "stream",
     "text": [
      "[23:04:22] DEPRECATION WARNING: please use MorganGenerator\n"
     ]
    }
   ],
   "source": [
    "fp1 = AllChem.GetMorganFingerprintAsBitVect(mol, 2)"
   ]
  },
  {
   "cell_type": "markdown",
   "metadata": {
    "cell_id": "00049-124332bb-7155-4988-99ea-8aae57250921",
    "deepnote_cell_height": 52,
    "deepnote_cell_type": "markdown",
    "id": "3Sy7vELwwUxJ"
   },
   "source": [
    "Display its type"
   ]
  },
  {
   "cell_type": "code",
   "execution_count": 30,
   "metadata": {
    "cell_id": "00050-7ebe67af-4ad8-4efc-91c8-5cf4471d7f20",
    "deepnote_cell_height": 65.60000610351562,
    "deepnote_cell_type": "code",
    "id": "Tev1bWf7uEod"
   },
   "outputs": [
    {
     "data": {
      "text/plain": [
       "rdkit.DataStructs.cDataStructs.ExplicitBitVect"
      ]
     },
     "execution_count": 30,
     "metadata": {},
     "output_type": "execute_result"
    }
   ],
   "source": [
    "type(fp1)"
   ]
  },
  {
   "cell_type": "markdown",
   "metadata": {
    "cell_id": "00051-a3e0e354-4c07-42c0-a881-bbd85e4e20d9",
    "deepnote_cell_height": 52,
    "deepnote_cell_type": "markdown",
    "id": "hdnCb6wbwUxJ"
   },
   "source": [
    "With the DataStructs module convert it to a numpy vector and display it shape and display it"
   ]
  },
  {
   "cell_type": "code",
   "execution_count": 31,
   "metadata": {
    "cell_id": "00052-23e08096-90d3-4f5c-862f-f305fc122eac",
    "deepnote_cell_height": 65.60000610351562,
    "deepnote_cell_type": "code",
    "id": "HwbR6a7WwUxK"
   },
   "outputs": [
    {
     "name": "stdout",
     "output_type": "stream",
     "text": [
      "Shape: (2048,), array: [0 0 0 ... 0 0 0]\n"
     ]
    }
   ],
   "source": [
    "fp1_np = np.zeros((1,), dtype=int)\n",
    "DataStructs.ConvertToNumpyArray(fp1, fp1_np)\n",
    "\n",
    "print(f\"Shape: {fp1_np.shape}, array: {fp1_np}\")"
   ]
  },
  {
   "cell_type": "markdown",
   "metadata": {
    "cell_id": "00053-d445fd97-c635-4ec2-8fa0-eec4143e799a",
    "deepnote_cell_height": 74.39999389648438,
    "deepnote_cell_type": "markdown",
    "id": "tI6Y7KjewUxK"
   },
   "source": [
    "Create a function smiles_to_np_morganfingerprinting which takes a smile representation and gives back the numpy version of the morgan finger_printing"
   ]
  },
  {
   "cell_type": "code",
   "execution_count": 32,
   "metadata": {
    "cell_id": "00054-8b86b5b2-d2b3-4a57-b843-50c58c961a81",
    "deepnote_cell_height": 65.60000610351562,
    "deepnote_cell_type": "code",
    "id": "JmmrCUJZwUxK"
   },
   "outputs": [],
   "source": [
    "def smiles_to_np_morganfingerprinting(smile):\n",
    "    m = MolFromSmiles(smile)\n",
    "    fingerprint = AllChem.GetMorganFingerprintAsBitVect(m, 2)\n",
    "    fingerprint_np = np.zeros((1,), dtype=int)\n",
    "    \n",
    "    DataStructs.ConvertToNumpyArray(fingerprint, fingerprint_np)\n",
    "\n",
    "    return fingerprint_np    \n"
   ]
  },
  {
   "cell_type": "markdown",
   "metadata": {
    "cell_id": "00056-45dc63e1-8d6d-4952-8617-c619691e31f4",
    "deepnote_cell_height": 52,
    "deepnote_cell_type": "markdown",
    "id": "fOUdg2zOwUxK"
   },
   "source": [
    "Compute the morgan finger printing of the aspirin (CC(=O)OC1=CC=CC=C1C(O)=O) and paracetamol (CC(=O)NC1=CC=C(O)C=C1)"
   ]
  },
  {
   "cell_type": "code",
   "execution_count": 33,
   "metadata": {
    "cell_id": "00057-8320ba76-7bf0-457f-a278-5f08ed8055bc",
    "deepnote_cell_height": 65.60000610351562,
    "deepnote_cell_type": "code",
    "id": "QIQGbJsBwUxK"
   },
   "outputs": [
    {
     "name": "stderr",
     "output_type": "stream",
     "text": [
      "[23:04:22] DEPRECATION WARNING: please use MorganGenerator\n",
      "[23:04:22] DEPRECATION WARNING: please use MorganGenerator\n"
     ]
    },
    {
     "data": {
      "text/plain": [
       "array([0, 0, 0, ..., 0, 0, 0])"
      ]
     },
     "execution_count": 33,
     "metadata": {},
     "output_type": "execute_result"
    }
   ],
   "source": [
    "aspirin = \"CC(=O)OC1=CC=CC=C1C(O)=O\"\n",
    "paracetamol = \"CC(=O)NC1=CC=C(O)C=C1\"\n",
    "\n",
    "aspirin_fp = smiles_to_np_morganfingerprinting(aspirin)\n",
    "paracetamol_fp = smiles_to_np_morganfingerprinting(paracetamol)\n",
    "\n",
    "aspirin_fp\n"
   ]
  },
  {
   "cell_type": "markdown",
   "metadata": {
    "cell_id": "00058-61ab6f17-0a6c-47b7-9c52-7822f70728b2",
    "deepnote_cell_height": 52,
    "deepnote_cell_type": "markdown",
    "id": "ToJe2WjywUxK"
   },
   "source": [
    "Compute the DiceSimilarity of the two molecules"
   ]
  },
  {
   "cell_type": "code",
   "execution_count": 34,
   "metadata": {
    "id": "vEe5vFQzPbz0"
   },
   "outputs": [
    {
     "data": {
      "text/plain": [
       "0.36363636363636365"
      ]
     },
     "execution_count": 34,
     "metadata": {},
     "output_type": "execute_result"
    }
   ],
   "source": [
    "aspirin_bit = DataStructs.CreateFromBitString(''.join(map(str, aspirin_fp)))\n",
    "paracetamol_bit = DataStructs.CreateFromBitString(''.join(map(str, paracetamol_fp)))\n",
    "\n",
    "dice_similarity = DataStructs.DiceSimilarity(aspirin_bit, paracetamol_bit)\n",
    "\n",
    "dice_similarity\n"
   ]
  }
 ],
 "metadata": {
  "colab": {
   "provenance": []
  },
  "deepnote": {},
  "deepnote_execution_queue": [],
  "deepnote_notebook_id": "18337e56-066d-4992-8ec7-3b37b0c030cc",
  "kernelspec": {
   "display_name": "venv",
   "language": "python",
   "name": "python3"
  },
  "language_info": {
   "codemirror_mode": {
    "name": "ipython",
    "version": 3
   },
   "file_extension": ".py",
   "mimetype": "text/x-python",
   "name": "python",
   "nbconvert_exporter": "python",
   "pygments_lexer": "ipython3",
   "version": "3.12.6"
  }
 },
 "nbformat": 4,
 "nbformat_minor": 0
}
